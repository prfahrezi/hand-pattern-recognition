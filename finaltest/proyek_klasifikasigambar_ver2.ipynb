{
  "nbformat": 4,
  "nbformat_minor": 0,
  "metadata": {
    "colab": {
      "name": "proyek_klasifikasigambar.ipynb",
      "provenance": [],
      "collapsed_sections": []
    },
    "kernelspec": {
      "display_name": "Python 3",
      "name": "python3"
    },
    "language_info": {
      "name": "python"
    },
    "accelerator": "GPU"
  },
  "cells": [
    {
      "cell_type": "markdown",
      "metadata": {
        "id": "6ANU7rl1Bx9W"
      },
      "source": [
        "**Praditya Irgy**\n",
        "\n",
        "Tegal, Jawa Tengah\n",
        "\n",
        "*www.dicoding.com/users/pradityairgy*"
      ]
    },
    {
      "cell_type": "code",
      "metadata": {
        "colab": {
          "base_uri": "https://localhost:8080/"
        },
        "id": "cPcGaGrJnLGl",
        "outputId": "411d7bad-3ef3-4078-b5d3-cbbe1d9181be"
      },
      "source": [
        "!wget --no-check-certificate \\\n",
        "  https://dicodingacademy.blob.core.windows.net/picodiploma/ml_pemula_academy/rockpaperscissors.zip \\\n",
        "  -O /tmp/rockpaperscissors.zip"
      ],
      "execution_count": null,
      "outputs": [
        {
          "output_type": "stream",
          "text": [
            "--2021-07-16 01:27:45--  https://dicodingacademy.blob.core.windows.net/picodiploma/ml_pemula_academy/rockpaperscissors.zip\n",
            "Resolving dicodingacademy.blob.core.windows.net (dicodingacademy.blob.core.windows.net)... 52.239.197.36\n",
            "Connecting to dicodingacademy.blob.core.windows.net (dicodingacademy.blob.core.windows.net)|52.239.197.36|:443... connected.\n",
            "HTTP request sent, awaiting response... 200 OK\n",
            "Length: 322873683 (308M) [application/zip]\n",
            "Saving to: ‘/tmp/rockpaperscissors.zip’\n",
            "\n",
            "/tmp/rockpapersciss 100%[===================>] 307.92M  7.82MB/s    in 38s     \n",
            "\n",
            "2021-07-16 01:28:24 (8.06 MB/s) - ‘/tmp/rockpaperscissors.zip’ saved [322873683/322873683]\n",
            "\n"
          ],
          "name": "stdout"
        }
      ]
    },
    {
      "cell_type": "code",
      "metadata": {
        "id": "f62iE1vUuYw3"
      },
      "source": [
        "import zipfile\n",
        "\n",
        "local_zip = '/tmp/rockpaperscissors.zip'\n",
        "zip_ref = zipfile.ZipFile(local_zip, 'r')\n",
        "zip_ref.extractall('/tmp')\n",
        "zip_ref.close()"
      ],
      "execution_count": null,
      "outputs": []
    },
    {
      "cell_type": "code",
      "metadata": {
        "colab": {
          "base_uri": "https://localhost:8080/"
        },
        "id": "iQhw3Y7F81xr",
        "outputId": "6fe3897a-a031-4108-d318-b06dbb480131"
      },
      "source": [
        "import os\n",
        "\n",
        "base_dir = '/tmp/rockpaperscissors'\n",
        "os.chdir(base_dir)\n",
        "print(os.getcwd())"
      ],
      "execution_count": null,
      "outputs": [
        {
          "output_type": "stream",
          "text": [
            "/tmp/rockpaperscissors\n"
          ],
          "name": "stdout"
        }
      ]
    },
    {
      "cell_type": "code",
      "metadata": {
        "id": "9WVOTnDCKsUe"
      },
      "source": [
        "os.mkdir('train')\n",
        "os.mkdir('val')\n",
        "\n",
        "train_dir = os.path.join(base_dir, 'train')\n",
        "validation_dir = os.path.join(base_dir, 'val')"
      ],
      "execution_count": null,
      "outputs": []
    },
    {
      "cell_type": "code",
      "metadata": {
        "id": "SU0tWlA70nCe"
      },
      "source": [
        "import shutil\n",
        "\n",
        "def split(dir):\n",
        "  val_path = f'val/{dir}'\n",
        "  file = os.listdir(dir)\n",
        "  porsi_val = len(file)*0.4\n",
        "\n",
        "  os.mkdir(val_path)  \n",
        "  for i in range(int(porsi_val)):\n",
        "    shutil.move(f'{dir}/{file[i]}', val_path) \n",
        "\n",
        "  shutil.move(dir, 'train')\n",
        "\n",
        "split('paper')\n",
        "split('rock')\n",
        "split('scissors')"
      ],
      "execution_count": null,
      "outputs": []
    },
    {
      "cell_type": "code",
      "metadata": {
        "colab": {
          "base_uri": "https://localhost:8080/"
        },
        "id": "wBKTwT3yq3pZ",
        "outputId": "6c490f2e-66f6-4b1d-8327-abd2e7fc4cdc"
      },
      "source": [
        "root = 'train'\n",
        "path = f'train/{os.listdir(root)[1]}'\n",
        "print(path)"
      ],
      "execution_count": null,
      "outputs": [
        {
          "output_type": "stream",
          "text": [
            "train/scissors\n"
          ],
          "name": "stdout"
        }
      ]
    },
    {
      "cell_type": "code",
      "metadata": {
        "id": "77ab9nSBnkF_"
      },
      "source": [
        "from PIL import Image\n",
        "\n",
        "def grayscale(root):\n",
        "  for i in range(0, 3):\n",
        "    path = f'{root}/{os.listdir(root)[i]}'\n",
        "\n",
        "    for j in range(len(os.listdir(path))):\n",
        "      filename = os.listdir(path)[j]\n",
        "      img = Image.open(f'{path}/{filename}').convert('LA')\n",
        "      img.save(f'{path}/{filename}')\n",
        "\n",
        "grayscale('train')\n",
        "grayscale('val')"
      ],
      "execution_count": null,
      "outputs": []
    },
    {
      "cell_type": "markdown",
      "metadata": {
        "id": "40RuEZrdRFIo"
      },
      "source": [
        "Disini saya ubah semua gambar yang ada di *dataset* karena saya pikir model juga akan mempertimbangkan warna pada gambar saat memprediksi *input*. Jadi saya ubah warna menjadi hitam putih agar model punya lebih sedikit hal yang perlu dijadikan faktor saat memprediksi *input*. Tentunya saya juga akan mengubah warna dari gambar *input* menjadi hitam putih."
      ]
    },
    {
      "cell_type": "code",
      "metadata": {
        "id": "BqIjoRz9vGnN"
      },
      "source": [
        "from tensorflow.keras.preprocessing.image import ImageDataGenerator\n",
        "     \n",
        "train_datagen = ImageDataGenerator(\n",
        "    rescale=1./255,\n",
        "    brightness_range=[0.2, 2.0],\n",
        "    rotation_range=120,\n",
        "    height_shift_range=0.4,\n",
        "    width_shift_range=0.4,\n",
        "    horizontal_flip=True,\n",
        "    shear_range = 0.2,\n",
        "    zoom_range=0.4,\n",
        "    fill_mode = 'nearest'\n",
        ")\n",
        "     \n",
        "test_datagen = ImageDataGenerator(\n",
        "    rescale=1./255,\n",
        "    rotation_range=120,\n",
        "    horizontal_flip=True,\n",
        "    shear_range = 0.2,\n",
        "    fill_mode = 'nearest')"
      ],
      "execution_count": null,
      "outputs": []
    },
    {
      "cell_type": "code",
      "metadata": {
        "id": "8Iq7wjC1MLiE",
        "colab": {
          "base_uri": "https://localhost:8080/"
        },
        "outputId": "8cf34848-e105-4801-80ca-b5525b7db3ec"
      },
      "source": [
        "train_generator = train_datagen.flow_from_directory(\n",
        "    train_dir,\n",
        "    target_size=(150, 150), \n",
        "    batch_size=32,\n",
        "    class_mode='categorical')\n",
        "     \n",
        "validation_generator = test_datagen.flow_from_directory(\n",
        "    validation_dir,\n",
        "    target_size=(150, 150),\n",
        "    batch_size=32,\n",
        "    class_mode='categorical')"
      ],
      "execution_count": null,
      "outputs": [
        {
          "output_type": "stream",
          "text": [
            "Found 1314 images belonging to 3 classes.\n",
            "Found 874 images belonging to 3 classes.\n"
          ],
          "name": "stdout"
        }
      ]
    },
    {
      "cell_type": "code",
      "metadata": {
        "id": "bFn3kXrsKiSb"
      },
      "source": [
        "import tensorflow as tf\n",
        "\n",
        "model = tf.keras.models.Sequential([\n",
        "                                    tf.keras.layers.Conv2D(32, (3,3), activation='relu', input_shape=(150, 150, 3)),\n",
        "                                    tf.keras.layers.MaxPooling2D(2, 2),\n",
        "                                    tf.keras.layers.Conv2D(64, (3,3), activation='relu'),\n",
        "                                    tf.keras.layers.MaxPooling2D(3,3),\n",
        "                                    tf.keras.layers.Conv2D(128, (3,3), activation='relu'),\n",
        "                                    tf.keras.layers.MaxPooling2D(3,3),\n",
        "                                    tf.keras.layers.Dropout(0.25),\n",
        "                                    tf.keras.layers.Conv2D(256, (3,3), activation='relu'),\n",
        "                                    tf.keras.layers.Flatten(),\n",
        "                                    tf.keras.layers.Dense(512,activation='relu'),\n",
        "                                    tf.keras.layers.Dropout(0.5),\n",
        "                                    tf.keras.layers.Dense(3, activation='softmax')\n",
        "])"
      ],
      "execution_count": null,
      "outputs": []
    },
    {
      "cell_type": "code",
      "metadata": {
        "id": "RF3J4SjouqeT"
      },
      "source": [
        "model.compile(loss='categorical_crossentropy',\n",
        "              optimizer=tf.optimizers.Adam(learning_rate=0.0005),\n",
        "              metrics=['accuracy'])"
      ],
      "execution_count": null,
      "outputs": []
    },
    {
      "cell_type": "code",
      "metadata": {
        "id": "uCne2aaAvogo",
        "colab": {
          "base_uri": "https://localhost:8080/"
        },
        "outputId": "44b140a9-0149-4e8c-b7a2-8bcb580ab87a"
      },
      "source": [
        "model.fit(\n",
        "      train_generator,\n",
        "      epochs=100,\n",
        "      steps_per_epoch=42,\n",
        "      batch_size=8,\n",
        "      validation_steps=28,\n",
        "      validation_data=validation_generator,\n",
        "      verbose=2)"
      ],
      "execution_count": null,
      "outputs": [
        {
          "output_type": "stream",
          "text": [
            "Epoch 1/100\n",
            "42/42 - 47s - loss: 1.1060 - accuracy: 0.3196 - val_loss: 1.0979 - val_accuracy: 0.3432\n",
            "Epoch 2/100\n",
            "42/42 - 15s - loss: 1.0988 - accuracy: 0.3326 - val_loss: 1.0980 - val_accuracy: 0.4268\n",
            "Epoch 3/100\n",
            "42/42 - 15s - loss: 1.0990 - accuracy: 0.3425 - val_loss: 1.0980 - val_accuracy: 0.3444\n",
            "Epoch 4/100\n",
            "42/42 - 15s - loss: 1.0974 - accuracy: 0.3234 - val_loss: 1.0940 - val_accuracy: 0.3238\n",
            "Epoch 5/100\n",
            "42/42 - 15s - loss: 1.0910 - accuracy: 0.3714 - val_loss: 1.0631 - val_accuracy: 0.5263\n",
            "Epoch 6/100\n",
            "42/42 - 15s - loss: 1.0411 - accuracy: 0.4635 - val_loss: 1.0743 - val_accuracy: 0.4600\n",
            "Epoch 7/100\n",
            "42/42 - 15s - loss: 0.9346 - accuracy: 0.6005 - val_loss: 1.0016 - val_accuracy: 0.4714\n",
            "Epoch 8/100\n",
            "42/42 - 14s - loss: 0.8176 - accuracy: 0.6476 - val_loss: 0.9144 - val_accuracy: 0.5892\n",
            "Epoch 9/100\n",
            "42/42 - 14s - loss: 0.7857 - accuracy: 0.6393 - val_loss: 1.1197 - val_accuracy: 0.4085\n",
            "Epoch 10/100\n",
            "42/42 - 14s - loss: 0.7442 - accuracy: 0.6788 - val_loss: 1.1123 - val_accuracy: 0.4439\n",
            "Epoch 11/100\n",
            "42/42 - 14s - loss: 0.7041 - accuracy: 0.6910 - val_loss: 0.7553 - val_accuracy: 0.6991\n",
            "Epoch 12/100\n",
            "42/42 - 14s - loss: 0.7017 - accuracy: 0.7184 - val_loss: 0.9367 - val_accuracy: 0.5400\n",
            "Epoch 13/100\n",
            "42/42 - 14s - loss: 0.6649 - accuracy: 0.7245 - val_loss: 0.7144 - val_accuracy: 0.7403\n",
            "Epoch 14/100\n",
            "42/42 - 14s - loss: 0.6377 - accuracy: 0.7428 - val_loss: 0.7251 - val_accuracy: 0.7220\n",
            "Epoch 15/100\n",
            "42/42 - 14s - loss: 0.6652 - accuracy: 0.7397 - val_loss: 0.9743 - val_accuracy: 0.5183\n",
            "Epoch 16/100\n",
            "42/42 - 14s - loss: 0.5893 - accuracy: 0.7656 - val_loss: 0.7309 - val_accuracy: 0.7151\n",
            "Epoch 17/100\n",
            "42/42 - 14s - loss: 0.6338 - accuracy: 0.7565 - val_loss: 0.7225 - val_accuracy: 0.6911\n",
            "Epoch 18/100\n",
            "42/42 - 14s - loss: 0.6111 - accuracy: 0.7466 - val_loss: 0.6810 - val_accuracy: 0.7334\n",
            "Epoch 19/100\n",
            "42/42 - 14s - loss: 0.5609 - accuracy: 0.7846 - val_loss: 0.7006 - val_accuracy: 0.7323\n",
            "Epoch 20/100\n",
            "42/42 - 14s - loss: 0.5716 - accuracy: 0.7839 - val_loss: 0.6576 - val_accuracy: 0.7414\n",
            "Epoch 21/100\n",
            "42/42 - 14s - loss: 0.5500 - accuracy: 0.7854 - val_loss: 0.4658 - val_accuracy: 0.8307\n",
            "Epoch 22/100\n",
            "42/42 - 14s - loss: 0.5511 - accuracy: 0.7930 - val_loss: 0.5482 - val_accuracy: 0.7998\n",
            "Epoch 23/100\n",
            "42/42 - 15s - loss: 0.5335 - accuracy: 0.7968 - val_loss: 0.6929 - val_accuracy: 0.7265\n",
            "Epoch 24/100\n",
            "42/42 - 14s - loss: 0.5547 - accuracy: 0.7846 - val_loss: 0.4398 - val_accuracy: 0.8490\n",
            "Epoch 25/100\n",
            "42/42 - 14s - loss: 0.5073 - accuracy: 0.8166 - val_loss: 0.5214 - val_accuracy: 0.7998\n",
            "Epoch 26/100\n",
            "42/42 - 14s - loss: 0.5102 - accuracy: 0.8067 - val_loss: 0.4298 - val_accuracy: 0.8432\n",
            "Epoch 27/100\n",
            "42/42 - 14s - loss: 0.4926 - accuracy: 0.8174 - val_loss: 0.4583 - val_accuracy: 0.8307\n",
            "Epoch 28/100\n",
            "42/42 - 14s - loss: 0.4897 - accuracy: 0.8212 - val_loss: 0.4962 - val_accuracy: 0.8158\n",
            "Epoch 29/100\n",
            "42/42 - 14s - loss: 0.5119 - accuracy: 0.8014 - val_loss: 0.3646 - val_accuracy: 0.8799\n",
            "Epoch 30/100\n",
            "42/42 - 14s - loss: 0.4952 - accuracy: 0.8242 - val_loss: 0.3247 - val_accuracy: 0.8856\n",
            "Epoch 31/100\n",
            "42/42 - 14s - loss: 0.4466 - accuracy: 0.8493 - val_loss: 0.4601 - val_accuracy: 0.8192\n",
            "Epoch 32/100\n",
            "42/42 - 14s - loss: 0.4938 - accuracy: 0.8075 - val_loss: 0.5466 - val_accuracy: 0.7677\n",
            "Epoch 33/100\n",
            "42/42 - 14s - loss: 0.4474 - accuracy: 0.8333 - val_loss: 0.3640 - val_accuracy: 0.8753\n",
            "Epoch 34/100\n",
            "42/42 - 14s - loss: 0.4491 - accuracy: 0.8333 - val_loss: 0.3229 - val_accuracy: 0.8844\n",
            "Epoch 35/100\n",
            "42/42 - 14s - loss: 0.4594 - accuracy: 0.8196 - val_loss: 0.4633 - val_accuracy: 0.8169\n",
            "Epoch 36/100\n",
            "42/42 - 14s - loss: 0.4398 - accuracy: 0.8333 - val_loss: 0.4228 - val_accuracy: 0.8421\n",
            "Epoch 37/100\n",
            "42/42 - 14s - loss: 0.4089 - accuracy: 0.8562 - val_loss: 0.2981 - val_accuracy: 0.8856\n",
            "Epoch 38/100\n",
            "42/42 - 14s - loss: 0.4021 - accuracy: 0.8554 - val_loss: 0.3484 - val_accuracy: 0.8730\n",
            "Epoch 39/100\n",
            "42/42 - 14s - loss: 0.4293 - accuracy: 0.8409 - val_loss: 0.3190 - val_accuracy: 0.8776\n",
            "Epoch 40/100\n",
            "42/42 - 15s - loss: 0.4133 - accuracy: 0.8432 - val_loss: 0.3701 - val_accuracy: 0.8478\n",
            "Epoch 41/100\n",
            "42/42 - 14s - loss: 0.3686 - accuracy: 0.8630 - val_loss: 0.2665 - val_accuracy: 0.8993\n",
            "Epoch 42/100\n",
            "42/42 - 14s - loss: 0.3738 - accuracy: 0.8699 - val_loss: 0.2789 - val_accuracy: 0.8890\n",
            "Epoch 43/100\n",
            "42/42 - 14s - loss: 0.3710 - accuracy: 0.8592 - val_loss: 0.2669 - val_accuracy: 0.9005\n",
            "Epoch 44/100\n",
            "42/42 - 14s - loss: 0.3758 - accuracy: 0.8554 - val_loss: 0.4943 - val_accuracy: 0.8307\n",
            "Epoch 45/100\n",
            "42/42 - 14s - loss: 0.4172 - accuracy: 0.8356 - val_loss: 0.3766 - val_accuracy: 0.8764\n",
            "Epoch 46/100\n",
            "42/42 - 14s - loss: 0.3499 - accuracy: 0.8721 - val_loss: 0.2808 - val_accuracy: 0.8947\n",
            "Epoch 47/100\n",
            "42/42 - 14s - loss: 0.3893 - accuracy: 0.8592 - val_loss: 0.2908 - val_accuracy: 0.8879\n",
            "Epoch 48/100\n",
            "42/42 - 14s - loss: 0.3201 - accuracy: 0.8805 - val_loss: 0.2064 - val_accuracy: 0.9222\n",
            "Epoch 49/100\n",
            "42/42 - 14s - loss: 0.3530 - accuracy: 0.8706 - val_loss: 0.1897 - val_accuracy: 0.9348\n",
            "Epoch 50/100\n",
            "42/42 - 14s - loss: 0.3671 - accuracy: 0.8615 - val_loss: 0.3359 - val_accuracy: 0.8822\n",
            "Epoch 51/100\n",
            "42/42 - 14s - loss: 0.3795 - accuracy: 0.8531 - val_loss: 0.1675 - val_accuracy: 0.9291\n",
            "Epoch 52/100\n",
            "42/42 - 14s - loss: 0.3262 - accuracy: 0.8790 - val_loss: 0.2696 - val_accuracy: 0.8982\n",
            "Epoch 53/100\n",
            "42/42 - 14s - loss: 0.3250 - accuracy: 0.8889 - val_loss: 0.2227 - val_accuracy: 0.9165\n",
            "Epoch 54/100\n",
            "42/42 - 14s - loss: 0.3459 - accuracy: 0.8752 - val_loss: 0.2953 - val_accuracy: 0.8913\n",
            "Epoch 55/100\n",
            "42/42 - 14s - loss: 0.3312 - accuracy: 0.8737 - val_loss: 0.1548 - val_accuracy: 0.9405\n",
            "Epoch 56/100\n",
            "42/42 - 14s - loss: 0.3364 - accuracy: 0.8775 - val_loss: 0.3808 - val_accuracy: 0.8581\n",
            "Epoch 57/100\n",
            "42/42 - 14s - loss: 0.3748 - accuracy: 0.8638 - val_loss: 0.1991 - val_accuracy: 0.9325\n",
            "Epoch 58/100\n",
            "42/42 - 14s - loss: 0.3315 - accuracy: 0.8767 - val_loss: 0.3013 - val_accuracy: 0.8719\n",
            "Epoch 59/100\n",
            "42/42 - 14s - loss: 0.3428 - accuracy: 0.8767 - val_loss: 0.1759 - val_accuracy: 0.9336\n",
            "Epoch 60/100\n",
            "42/42 - 14s - loss: 0.2991 - accuracy: 0.8965 - val_loss: 0.3204 - val_accuracy: 0.8799\n",
            "Epoch 61/100\n",
            "42/42 - 14s - loss: 0.3464 - accuracy: 0.8668 - val_loss: 0.1340 - val_accuracy: 0.9519\n",
            "Epoch 62/100\n",
            "42/42 - 14s - loss: 0.3123 - accuracy: 0.8820 - val_loss: 0.1955 - val_accuracy: 0.9314\n",
            "Epoch 63/100\n",
            "42/42 - 14s - loss: 0.3102 - accuracy: 0.8912 - val_loss: 0.1721 - val_accuracy: 0.9268\n",
            "Epoch 64/100\n",
            "42/42 - 14s - loss: 0.3075 - accuracy: 0.8927 - val_loss: 0.2199 - val_accuracy: 0.9222\n",
            "Epoch 65/100\n",
            "42/42 - 14s - loss: 0.3185 - accuracy: 0.8896 - val_loss: 0.1333 - val_accuracy: 0.9554\n",
            "Epoch 66/100\n",
            "42/42 - 14s - loss: 0.2869 - accuracy: 0.8980 - val_loss: 0.4273 - val_accuracy: 0.8421\n",
            "Epoch 67/100\n",
            "42/42 - 14s - loss: 0.3559 - accuracy: 0.8706 - val_loss: 0.2143 - val_accuracy: 0.9176\n",
            "Epoch 68/100\n",
            "42/42 - 14s - loss: 0.2975 - accuracy: 0.8935 - val_loss: 0.1765 - val_accuracy: 0.9474\n",
            "Epoch 69/100\n",
            "42/42 - 14s - loss: 0.3077 - accuracy: 0.8927 - val_loss: 0.1846 - val_accuracy: 0.9268\n",
            "Epoch 70/100\n",
            "42/42 - 14s - loss: 0.2996 - accuracy: 0.8995 - val_loss: 0.1987 - val_accuracy: 0.9279\n",
            "Epoch 71/100\n",
            "42/42 - 14s - loss: 0.3118 - accuracy: 0.8881 - val_loss: 0.1486 - val_accuracy: 0.9531\n",
            "Epoch 72/100\n",
            "42/42 - 14s - loss: 0.2838 - accuracy: 0.8935 - val_loss: 0.1350 - val_accuracy: 0.9714\n",
            "Epoch 73/100\n",
            "42/42 - 14s - loss: 0.2868 - accuracy: 0.9011 - val_loss: 0.1474 - val_accuracy: 0.9451\n",
            "Epoch 74/100\n",
            "42/42 - 14s - loss: 0.2688 - accuracy: 0.8980 - val_loss: 0.1362 - val_accuracy: 0.9554\n",
            "Epoch 75/100\n",
            "42/42 - 14s - loss: 0.2674 - accuracy: 0.9049 - val_loss: 0.1536 - val_accuracy: 0.9462\n",
            "Epoch 76/100\n",
            "42/42 - 14s - loss: 0.2743 - accuracy: 0.8965 - val_loss: 0.1313 - val_accuracy: 0.9622\n",
            "Epoch 77/100\n",
            "42/42 - 14s - loss: 0.2681 - accuracy: 0.9064 - val_loss: 0.1573 - val_accuracy: 0.9542\n",
            "Epoch 78/100\n",
            "42/42 - 14s - loss: 0.2929 - accuracy: 0.8919 - val_loss: 0.1086 - val_accuracy: 0.9577\n",
            "Epoch 79/100\n",
            "42/42 - 14s - loss: 0.2763 - accuracy: 0.9003 - val_loss: 0.1087 - val_accuracy: 0.9737\n",
            "Epoch 80/100\n",
            "42/42 - 14s - loss: 0.2370 - accuracy: 0.9239 - val_loss: 0.0703 - val_accuracy: 0.9817\n",
            "Epoch 81/100\n",
            "42/42 - 14s - loss: 0.2527 - accuracy: 0.9079 - val_loss: 0.1072 - val_accuracy: 0.9668\n",
            "Epoch 82/100\n",
            "42/42 - 14s - loss: 0.2705 - accuracy: 0.9049 - val_loss: 0.1201 - val_accuracy: 0.9577\n",
            "Epoch 83/100\n",
            "42/42 - 14s - loss: 0.3095 - accuracy: 0.8851 - val_loss: 0.1418 - val_accuracy: 0.9508\n",
            "Epoch 84/100\n",
            "42/42 - 14s - loss: 0.2879 - accuracy: 0.9011 - val_loss: 0.1648 - val_accuracy: 0.9394\n",
            "Epoch 85/100\n",
            "42/42 - 14s - loss: 0.2580 - accuracy: 0.9064 - val_loss: 0.1859 - val_accuracy: 0.9554\n",
            "Epoch 86/100\n",
            "42/42 - 14s - loss: 0.2490 - accuracy: 0.9170 - val_loss: 0.1488 - val_accuracy: 0.9462\n",
            "Epoch 87/100\n",
            "42/42 - 14s - loss: 0.2249 - accuracy: 0.9155 - val_loss: 0.0978 - val_accuracy: 0.9634\n",
            "Epoch 88/100\n",
            "42/42 - 14s - loss: 0.2944 - accuracy: 0.9026 - val_loss: 0.1711 - val_accuracy: 0.9531\n",
            "Epoch 89/100\n",
            "42/42 - 14s - loss: 0.2738 - accuracy: 0.9033 - val_loss: 0.2028 - val_accuracy: 0.9279\n",
            "Epoch 90/100\n",
            "42/42 - 14s - loss: 0.2752 - accuracy: 0.9087 - val_loss: 0.1357 - val_accuracy: 0.9657\n",
            "Epoch 91/100\n",
            "42/42 - 14s - loss: 0.2545 - accuracy: 0.9125 - val_loss: 0.1270 - val_accuracy: 0.9565\n",
            "Epoch 92/100\n",
            "42/42 - 14s - loss: 0.2509 - accuracy: 0.9117 - val_loss: 0.0706 - val_accuracy: 0.9828\n",
            "Epoch 93/100\n",
            "42/42 - 14s - loss: 0.2510 - accuracy: 0.9148 - val_loss: 0.0928 - val_accuracy: 0.9668\n",
            "Epoch 94/100\n",
            "42/42 - 14s - loss: 0.2476 - accuracy: 0.9132 - val_loss: 0.0682 - val_accuracy: 0.9783\n",
            "Epoch 95/100\n",
            "42/42 - 14s - loss: 0.2455 - accuracy: 0.9117 - val_loss: 0.0849 - val_accuracy: 0.9680\n",
            "Epoch 96/100\n",
            "42/42 - 14s - loss: 0.2579 - accuracy: 0.9148 - val_loss: 0.0662 - val_accuracy: 0.9771\n",
            "Epoch 97/100\n",
            "42/42 - 14s - loss: 0.2772 - accuracy: 0.8980 - val_loss: 0.0718 - val_accuracy: 0.9897\n",
            "Epoch 98/100\n",
            "42/42 - 14s - loss: 0.2239 - accuracy: 0.9224 - val_loss: 0.0647 - val_accuracy: 0.9783\n",
            "Epoch 99/100\n",
            "42/42 - 14s - loss: 0.2221 - accuracy: 0.9193 - val_loss: 0.0923 - val_accuracy: 0.9691\n",
            "Epoch 100/100\n",
            "42/42 - 14s - loss: 0.2356 - accuracy: 0.9163 - val_loss: 0.0606 - val_accuracy: 0.9828\n"
          ],
          "name": "stdout"
        },
        {
          "output_type": "execute_result",
          "data": {
            "text/plain": [
              "<tensorflow.python.keras.callbacks.History at 0x7f6cb2f05350>"
            ]
          },
          "metadata": {
            "tags": []
          },
          "execution_count": 13
        }
      ]
    },
    {
      "cell_type": "code",
      "metadata": {
        "id": "ZGyiodlCpZTo",
        "colab": {
          "base_uri": "https://localhost:8080/"
        },
        "outputId": "24f0dfae-8e69-40f2-ece2-4f444f394ba1"
      },
      "source": [
        "print(validation_generator.class_indices)\n",
        "model.evaluate(validation_generator)"
      ],
      "execution_count": null,
      "outputs": [
        {
          "output_type": "stream",
          "text": [
            "{'paper': 0, 'rock': 1, 'scissors': 2}\n",
            "28/28 [==============================] - 5s 188ms/step - loss: 0.0631 - accuracy: 0.9805\n"
          ],
          "name": "stdout"
        },
        {
          "output_type": "execute_result",
          "data": {
            "text/plain": [
              "[0.06310050934553146, 0.9805492162704468]"
            ]
          },
          "metadata": {
            "tags": []
          },
          "execution_count": 14
        }
      ]
    },
    {
      "cell_type": "code",
      "metadata": {
        "id": "eQm8wqjLZGKZ",
        "colab": {
          "resources": {
            "http://localhost:8080/nbextensions/google.colab/files.js": {
              "data": "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",
              "ok": true,
              "headers": [
                [
                  "content-type",
                  "application/javascript"
                ]
              ],
              "status": 200,
              "status_text": "OK"
            }
          },
          "base_uri": "https://localhost:8080/",
          "height": 382
        },
        "outputId": "5bbb149d-e5ef-43b9-90e4-2d11e5c13099"
      },
      "source": [
        "    import numpy as np\n",
        "    from google.colab import files\n",
        "    from keras.preprocessing import image\n",
        "    import matplotlib.pyplot as plt\n",
        "    import matplotlib.image as mpimg\n",
        "    %matplotlib inline\n",
        "     \n",
        "    uploaded = files.upload()\n",
        "     \n",
        "    for fn in uploaded.keys():\n",
        "     \n",
        "      # predicting images\n",
        "      path = fn\n",
        "      img = image.load_img(path, target_size=(150,150,3)).convert('LA').convert('RGB')\n",
        "      imgplot = plt.imshow(img)\n",
        "      x = image.img_to_array(img)\n",
        "      x = np.expand_dims(x, axis=0)\n",
        "     \n",
        "      images = np.vstack([x])\n",
        "      classes = model.predict(images)\n",
        "      \n",
        "      print(fn)\n",
        "      print(classes)\n",
        "      if classes[0][0] == 1:\n",
        "        print('paper')\n",
        "        \n",
        "      elif classes[0][1] == 1:\n",
        "        print('rock')\n",
        "\n",
        "      else:\n",
        "        print('scissors')"
      ],
      "execution_count": null,
      "outputs": [
        {
          "output_type": "display_data",
          "data": {
            "text/html": [
              "\n",
              "     <input type=\"file\" id=\"files-df20079d-7399-4381-bd4c-d9105bbb5a39\" name=\"files[]\" multiple disabled\n",
              "        style=\"border:none\" />\n",
              "     <output id=\"result-df20079d-7399-4381-bd4c-d9105bbb5a39\">\n",
              "      Upload widget is only available when the cell has been executed in the\n",
              "      current browser session. Please rerun this cell to enable.\n",
              "      </output>\n",
              "      <script src=\"/nbextensions/google.colab/files.js\"></script> "
            ],
            "text/plain": [
              "<IPython.core.display.HTML object>"
            ]
          },
          "metadata": {
            "tags": []
          }
        },
        {
          "output_type": "stream",
          "text": [
            "Saving scissors(2).jpg to scissors(2) (3).jpg\n",
            "scissors(2).jpg\n",
            "[[0.0000000e+00 9.9999785e-01 2.1668366e-06]]\n",
            "scissors\n"
          ],
          "name": "stdout"
        },
        {
          "output_type": "display_data",
          "data": {
            "image/png": "[encoded data removed]",
            "text/plain": [
              "<Figure size 432x288 with 1 Axes>"
            ]
          },
          "metadata": {
            "tags": [],
            "needs_background": "light"
          }
        }
      ]
    }
  ]
}